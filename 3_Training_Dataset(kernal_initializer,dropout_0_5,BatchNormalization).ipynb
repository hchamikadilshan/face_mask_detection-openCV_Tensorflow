{
 "cells": [
  {
   "cell_type": "code",
   "execution_count": null,
   "metadata": {
    "colab": {
     "base_uri": "https://localhost:8080/"
    },
    "id": "Z4gFkYwLsZTq",
    "outputId": "6c6b91c6-b2ed-422b-edb0-d4945234d1f8"
   },
   "outputs": [],
   "source": [
    "import numpy as np\n",
    "\n",
    "data=np.load('data.npy')\n",
    "print(data.shape)\n",
    "target=np.load('target.npy')\n",
    "print(target.shape)"
   ]
  },
  {
   "cell_type": "code",
   "execution_count": null,
   "metadata": {
    "colab": {
     "base_uri": "https://localhost:8080/"
    },
    "id": "JxHtD-SZsZTs",
    "outputId": "acce7d2d-7b0c-4f6b-dd69-5a2e54506ac3"
   },
   "outputs": [],
   "source": [
    "from keras.models import Sequential\n",
    "from keras.layers import Dense,Conv2D,Dropout,Flatten,MaxPooling2D,BatchNormalization\n",
    "\n",
    "model=Sequential()\n",
    "\n",
    "model.add(Conv2D(128,(3,3),input_shape=(100,100,1),activation='relu',kernel_initializer='orthogonal'))\n",
    "model.add(BatchNormalization())\n",
    "# model.add(MaxPooling2D(pool_size=(2,2)))\n",
    "model.add(Conv2D(64,(3,3),activation='relu',kernel_initializer='orthogonal'))\n",
    "model.add(BatchNormalization())\n",
    "model.add(MaxPooling2D(pool_size=(2,2)))\n",
    "model.add(Conv2D(32,(3,3),activation='relu',kernel_initializer='orthogonal'))\n",
    "model.add(BatchNormalization())\n",
    "model.add(MaxPooling2D(pool_size=(2,2)))\n",
    "\n",
    "model.add(Flatten())\n",
    "\n",
    "model.add(Dense(256,activation='relu'))\n",
    "model.add(Dropout(0.5))\n",
    "model.add(Dense(128,activation='relu'))\n",
    "model.add(Dropout(0.5))\n",
    "model.add(Dense(64,activation='relu'))\n",
    "model.add(Dropout(0.5))\n",
    "model.add(Dense(32,activation='relu'))\n",
    "model.add(Dropout(0.5))\n",
    "\n",
    "model.add(Dense(2,activation='softmax'))\n",
    "\n",
    "model.compile(loss='categorical_crossentropy',optimizer='adam',metrics=['accuracy'])\n",
    "\n",
    "model.summary()"
   ]
  },
  {
   "cell_type": "code",
   "execution_count": null,
   "metadata": {
    "id": "LEjZQuUw89LO"
   },
   "outputs": [],
   "source": [
    "from keras.callbacks import ModelCheckpoint\n",
    "\n",
    "model_checkpoint_callback= ModelCheckpoint(\n",
    "    filepath=\"/content/drive/MyDrive/Face_mask_detection/Model_checkpoints/model-{epoch:03d}.h5\",\n",
    "    save_weights_only=True,\n",
    "    monitor='val_loss',\n",
    "#     mode='min',\n",
    "    save_best_only=True,\n",
    "    mode='auto')"
   ]
  },
  {
   "cell_type": "code",
   "execution_count": null,
   "metadata": {
    "colab": {
     "base_uri": "https://localhost:8080/"
    },
    "id": "8gLZC4QysZTt",
    "outputId": "1fb14907-e921-48d4-899b-6fd1448de5de"
   },
   "outputs": [],
   "source": [
    "model.fit(data,target,epochs=100,validation_split=0.2,batch_size=32,callbacks=[model_checkpoint_callback])"
   ]
  },
  {
   "cell_type": "code",
   "execution_count": null,
   "metadata": {
    "colab": {
     "base_uri": "https://localhost:8080/",
     "height": 265
    },
    "id": "hCzYpNRcsZTt",
    "outputId": "7d0ba898-0365-4e59-a177-a0956b192c4c"
   },
   "outputs": [],
   "source": [
    "from matplotlib import pyplot as plt\n",
    "plt.plot(model.history.history['loss'],label=\"loss\")\n",
    "plt.plot(model.history.history['val_loss'],label=\"val_loss\")\n",
    "\n",
    "plt.legend()\n",
    "\n",
    "plt.savefig('Loss_graphs/loss_training(kernal_initializer,dropout_0.5,BatchNormalization).png')\n",
    "\n",
    "plt.show()"
   ]
  },
  {
   "cell_type": "code",
   "execution_count": null,
   "metadata": {
    "colab": {
     "base_uri": "https://localhost:8080/",
     "height": 265
    },
    "id": "6l5B4EB8sZTu",
    "outputId": "1dfa747d-0bb0-4fcd-f84a-aa1f8c062485"
   },
   "outputs": [],
   "source": [
    "from matplotlib import pyplot as plt\n",
    "plt.plot(model.history.history['accuracy'],label=\"accuracy\")\n",
    "plt.plot(model.history.history['val_accuracy'],label=\"val_laccuracy\")\n",
    "\n",
    "plt.legend()\n",
    "\n",
    "plt.savefig('Accuracy_graphs/accuracy_training(kernal_initializer,dropout_0.5,BatchNormalization).png')\n",
    "\n",
    "plt.show()"
   ]
  },
  {
   "cell_type": "code",
   "execution_count": null,
   "metadata": {
    "id": "BZNJ2FiksZTu"
   },
   "outputs": [],
   "source": [
    "model.save_weights('models/model(kernal_initializer,dropout_0.5,BatchNormalization).h5')"
   ]
  }
 ],
 "metadata": {
  "accelerator": "GPU",
  "colab": {
   "collapsed_sections": [],
   "name": " 2-Training_Dataset(kernal_initializer,dropout_0.5,BatchNormalization).ipynb",
   "provenance": []
  },
  "kernelspec": {
   "display_name": "Python 3",
   "language": "python",
   "name": "python3"
  },
  "language_info": {
   "codemirror_mode": {
    "name": "ipython",
    "version": 3
   },
   "file_extension": ".py",
   "mimetype": "text/x-python",
   "name": "python",
   "nbconvert_exporter": "python",
   "pygments_lexer": "ipython3",
   "version": "3.8.5"
  }
 },
 "nbformat": 4,
 "nbformat_minor": 1
}
