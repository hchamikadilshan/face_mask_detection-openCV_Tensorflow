{
 "cells": [
  {
   "cell_type": "code",
   "execution_count": 7,
   "metadata": {},
   "outputs": [],
   "source": [
    "import cv2 as cv\n",
    "import os\n",
    "import numpy as np"
   ]
  },
  {
   "cell_type": "code",
   "execution_count": 9,
   "metadata": {},
   "outputs": [
    {
     "name": "stdout",
     "output_type": "stream",
     "text": [
      "{'WithMask': 0, 'WithoutMask': 1}\n"
     ]
    }
   ],
   "source": [
    "dataset_path = \"dataset\"\n",
    "\n",
    "categories = os.listdir(dataset_path)\n",
    "labels=np.arange(len(categories))\n",
    "labels_dictionary=dict(zip(categories,labels))\n",
    "print(labels_dictionary)"
   ]
  },
  {
   "cell_type": "code",
   "execution_count": 12,
   "metadata": {},
   "outputs": [],
   "source": [
    "img_size=100\n",
    "\n",
    "data=[]\n",
    "target=[]\n",
    "\n",
    "for category in categories:\n",
    "    images_path=os.path.join(dataset_path,category)\n",
    "    images=os.listdir(images_path)\n",
    "    for image in images:\n",
    "        image_path=os.path.join(images_path,image)\n",
    "        \n",
    "        try:\n",
    "            img=cv.imread(image_path)\n",
    "            img=cv.resize(img,(img_size,img_size))\n",
    "            img=cv.cvtColor(img,cv.COLOR_BGR2GRAY)\n",
    "            \n",
    "            data.append(img)\n",
    "            target.append(labels_dictionary[category])\n",
    "        except Exception as e:\n",
    "            print(e)"
   ]
  },
  {
   "cell_type": "code",
   "execution_count": 13,
   "metadata": {},
   "outputs": [
    {
     "name": "stdout",
     "output_type": "stream",
     "text": [
      "(11792, 100, 100)\n"
     ]
    }
   ],
   "source": [
    "dataNew=np.array(data)\n",
    "targetNew=np.array(target)\n",
    "print(dataNew.shape)"
   ]
  },
  {
   "cell_type": "code",
   "execution_count": 14,
   "metadata": {},
   "outputs": [],
   "source": [
    "dataNew=dataNew.reshape(dataNew.shape[0],dataNew.shape[1],dataNew.shape[2],1)"
   ]
  },
  {
   "cell_type": "code",
   "execution_count": 15,
   "metadata": {},
   "outputs": [],
   "source": [
    "dataNew=dataNew/255 #scaled the date\n",
    "\n",
    "from keras.utils import np_utils\n",
    "\n",
    "targetNew=np_utils.to_categorical(targetNew)"
   ]
  },
  {
   "cell_type": "code",
   "execution_count": 16,
   "metadata": {},
   "outputs": [],
   "source": [
    "np.save('data',dataNew)\n",
    "np.save('target',targetNew)"
   ]
  },
  {
   "cell_type": "code",
   "execution_count": null,
   "metadata": {},
   "outputs": [],
   "source": []
  }
 ],
 "metadata": {
  "kernelspec": {
   "display_name": "Python 3",
   "language": "python",
   "name": "python3"
  },
  "language_info": {
   "codemirror_mode": {
    "name": "ipython",
    "version": 3
   },
   "file_extension": ".py",
   "mimetype": "text/x-python",
   "name": "python",
   "nbconvert_exporter": "python",
   "pygments_lexer": "ipython3",
   "version": "3.8.5"
  }
 },
 "nbformat": 4,
 "nbformat_minor": 4
}
